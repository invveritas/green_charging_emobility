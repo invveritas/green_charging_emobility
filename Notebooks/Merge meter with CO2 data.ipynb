{
 "cells": [
  {
   "cell_type": "code",
   "execution_count": 52,
   "id": "bbcea15e",
   "metadata": {},
   "outputs": [],
   "source": [
    "from pathlib import Path\n",
    "import pandas as pd\n",
    "import numpy as np\n",
    "from datetime import datetime, timezone\n",
    "from scipy.interpolate import interp1d\n",
    "from functools import lru_cache"
   ]
  },
  {
   "cell_type": "code",
   "execution_count": 2,
   "id": "8d2c291c",
   "metadata": {},
   "outputs": [],
   "source": [
    "DATA_DIR = (Path.cwd() / \"..\" / \"Data\").resolve()"
   ]
  },
  {
   "cell_type": "code",
   "execution_count": 45,
   "id": "a7f76153",
   "metadata": {},
   "outputs": [],
   "source": [
    "assert (DATA_DIR / \"CH 2020-2021.csv\").exists()\n",
    "assert (DATA_DIR / \"metervalues_pseudonymized_1_neu.csv\").exists()\n",
    "assert (DATA_DIR / \"metervalues_pseudonymized_2_neu.csv\").exists()"
   ]
  },
  {
   "cell_type": "code",
   "execution_count": 54,
   "id": "a9fc5fe7",
   "metadata": {},
   "outputs": [
    {
     "name": "stderr",
     "output_type": "stream",
     "text": [
      "/Users/cmutel/miniconda3/envs/bw2dev38/lib/python3.8/site-packages/IPython/core/interactiveshell.py:3169: DtypeWarning: Columns (0,2,3,4,5) have mixed types.Specify dtype option on import or set low_memory=False.\n",
      "  has_raised = await self.run_ast_nodes(code_ast.body, cell_name,\n"
     ]
    }
   ],
   "source": [
    "meter_1 = pd.read_csv(DATA_DIR / \"metervalues_pseudonymized_1_neu.csv\", delimiter=\";\")\n",
    "# Clean extra row of headers\n",
    "meter_1 = meter_1[meter_1[\"id\"] != \"id\"]"
   ]
  },
  {
   "cell_type": "code",
   "execution_count": 55,
   "id": "bc21c1c9",
   "metadata": {},
   "outputs": [],
   "source": [
    "meter_1[\"id\"] = pd.to_numeric(meter_1[\"id\"])\n",
    "meter_1[\"timestamp\"] = pd.to_datetime(meter_1[\"timestamp\"])\n",
    "meter_1[\"Chargepoint\"] = meter_1[\"Chargepoint\"].apply(int)\n",
    "meter_1[\"metervalue\"] = pd.to_numeric(meter_1[\"metervalue\"])\n",
    "meter_1[\"increment\"] = pd.to_numeric(meter_1[\"increment\"])"
   ]
  },
  {
   "cell_type": "code",
   "execution_count": 56,
   "id": "fb4bb4c0",
   "metadata": {},
   "outputs": [
    {
     "name": "stderr",
     "output_type": "stream",
     "text": [
      "/Users/cmutel/miniconda3/envs/bw2dev38/lib/python3.8/site-packages/IPython/core/interactiveshell.py:3169: DtypeWarning: Columns (2,3) have mixed types.Specify dtype option on import or set low_memory=False.\n",
      "  has_raised = await self.run_ast_nodes(code_ast.body, cell_name,\n"
     ]
    }
   ],
   "source": [
    "meter_2 = pd.read_csv(DATA_DIR / \"metervalues_pseudonymized_2_neu.csv\", \n",
    "                      delimiter=\";\", \n",
    "                      header=0)"
   ]
  },
  {
   "cell_type": "code",
   "execution_count": 57,
   "id": "b33114a8",
   "metadata": {},
   "outputs": [
    {
     "name": "stderr",
     "output_type": "stream",
     "text": [
      "<ipython-input-57-3612a84dc8b8>:4: SettingWithCopyWarning: \n",
      "A value is trying to be set on a copy of a slice from a DataFrame\n",
      "\n",
      "See the caveats in the documentation: https://pandas.pydata.org/pandas-docs/stable/user_guide/indexing.html#returning-a-view-versus-a-copy\n",
      "  meter_2[\"Chargepoint\"][mask] = 42\n"
     ]
    }
   ],
   "source": [
    "meter_2[\"id\"] = pd.to_numeric(meter_2[\"id\"])\n",
    "meter_2[\"timestamp\"] = pd.to_datetime(meter_2[\"timestamp\"])\n",
    "mask = meter_2[\"Chargepoint\"].isnull()\n",
    "meter_2[\"Chargepoint\"][mask] = 42\n",
    "meter_2[\"Chargepoint\"] = meter_2[\"Chargepoint\"].apply(int)\n",
    "meter_2[\"metervalue\"] = pd.to_numeric(meter_2[\"metervalue\"])\n",
    "meter_2[\"increment\"] = pd.to_numeric(meter_2[\"increment\"])"
   ]
  },
  {
   "cell_type": "code",
   "execution_count": 58,
   "id": "8c631d20",
   "metadata": {},
   "outputs": [],
   "source": [
    "meter = pd.concat([meter_1, meter_2])"
   ]
  },
  {
   "cell_type": "code",
   "execution_count": 59,
   "id": "88791d26",
   "metadata": {},
   "outputs": [],
   "source": [
    "meter_1 = meter_2 = None"
   ]
  },
  {
   "cell_type": "code",
   "execution_count": 60,
   "id": "7e41941a",
   "metadata": {},
   "outputs": [],
   "source": [
    "co2 = pd.read_csv(DATA_DIR / \"CH 2020-2021.csv\")"
   ]
  },
  {
   "cell_type": "code",
   "execution_count": 61,
   "id": "c6bb42ed",
   "metadata": {},
   "outputs": [],
   "source": [
    "UNNECESSARY = [\n",
    " 'created_at',\n",
    " 'updated_at',\n",
    " 'timestamp',\n",
    " 'zone_name',\n",
    " 'carbon_intensity_discharge_avg',\n",
    " 'carbon_origin_percent_nuclear_avg',\n",
    " 'carbon_origin_percent_geothermal_avg',\n",
    " 'carbon_origin_percent_biomass_avg',\n",
    " 'carbon_origin_percent_coal_avg',\n",
    " 'carbon_origin_percent_wind_avg',\n",
    " 'carbon_origin_percent_solar_avg',\n",
    " 'carbon_origin_percent_hydro_avg',\n",
    " 'carbon_origin_percent_gas_avg',\n",
    " 'carbon_origin_percent_oil_avg',\n",
    " 'carbon_origin_percent_unknown_avg',\n",
    " 'carbon_origin_percent_battery_discharge_avg',\n",
    " 'carbon_origin_percent_hydro_discharge_avg',\n",
    " 'power_net_discharge_battery_avg',\n",
    " 'power_net_discharge_hydro_avg',\n",
    " 'power_net_import_AT_avg',\n",
    " 'carbon_intensity_exchange_AT_avg',\n",
    " 'power_net_import_DE_avg',\n",
    " 'carbon_intensity_exchange_DE_avg',\n",
    " 'power_net_import_FR_avg',\n",
    " 'carbon_intensity_exchange_FR_avg',\n",
    " 'power_net_import_IT-NO_avg',\n",
    " 'carbon_intensity_exchange_IT-NO_avg',\n",
    " 'latest_forecasted_wind_x_avg',\n",
    " 'latest_forecasted_wind_y_avg',\n",
    " 'latest_forecasted_solar_avg',\n",
    " 'latest_forecasted_temperature_avg',\n",
    " 'latest_forecasted_dewpoint_avg',\n",
    " 'latest_forecasted_precipitation_avg',\n",
    " 'latest_forecasted_price_avg',\n",
    " 'latest_forecasted_production_avg',\n",
    " 'latest_forecasted_consumption_avg',\n",
    " 'latest_forecasted_power_net_import_AT_avg',\n",
    " 'latest_forecasted_power_net_import_DE_avg',\n",
    " 'latest_forecasted_power_net_import_FR_avg',\n",
    " 'latest_forecasted_power_net_import_IT-NO_avg',\n",
    " 'latest_forecasted_production_solar_avg',\n",
    " 'latest_forecasted_production_wind_avg',\n",
    " 'power_origin_percent_fossil_avg',\n",
    " 'power_origin_percent_renewable_avg',\n",
    " 'power_production_percent_fossil_avg',\n",
    " 'power_production_percent_renewable_avg',\n",
    " 'power_production_nuclear_avg',\n",
    " 'power_production_geothermal_avg',\n",
    " 'power_production_biomass_avg',\n",
    " 'power_production_coal_avg',\n",
    " 'power_production_wind_avg',\n",
    " 'power_production_solar_avg',\n",
    " 'power_production_hydro_avg',\n",
    " 'power_production_gas_avg',\n",
    " 'power_production_oil_avg',\n",
    " 'power_production_unknown_avg',\n",
    " 'total_consumption_avg',\n",
    " 'carbon_rate_avg',\n",
    " 'total_production_avg',\n",
    " 'total_storage_avg',\n",
    " 'total_discharge_avg',\n",
    " 'total_import_avg',\n",
    " 'total_export_avg',\n",
    " 'production_sources'\n",
    "]"
   ]
  },
  {
   "cell_type": "code",
   "execution_count": 62,
   "id": "61f484eb",
   "metadata": {},
   "outputs": [],
   "source": [
    "co2.drop(UNNECESSARY, axis=1, inplace=True)"
   ]
  },
  {
   "cell_type": "code",
   "execution_count": 63,
   "id": "b90be03a",
   "metadata": {},
   "outputs": [],
   "source": [
    "co2[\"datetime\"] = pd.to_datetime(co2[\"datetime\"])"
   ]
  },
  {
   "cell_type": "code",
   "execution_count": 64,
   "id": "ef662ecb",
   "metadata": {},
   "outputs": [],
   "source": [
    "mapping = {\n",
    "    'carbon_intensity_avg': 'co2_intensity',  # g / kWh\n",
    "    'carbon_intensity_production_avg': 'co2_production',\n",
    "    'carbon_intensity_import_avg': 'co2_import',\n",
    "    'power_consumption_nuclear_avg': 'nuclear',\n",
    "    'power_consumption_geothermal_avg': 'geothermal',\n",
    "    'power_consumption_biomass_avg': 'biomass',\n",
    "    'power_consumption_coal_avg': 'coal',\n",
    "    'power_consumption_wind_avg': 'wind',\n",
    "    'power_consumption_solar_avg': 'solar',\n",
    "    'power_consumption_hydro_avg': 'hydro',\n",
    "    'power_consumption_gas_avg': 'gas',\n",
    "    'power_consumption_oil_avg': 'oil',\n",
    "    'power_consumption_unknown_avg': 'unknown',\n",
    "    'power_consumption_battery_discharge_avg': 'battery',\n",
    "    'power_consumption_hydro_discharge_avg': 'hydro',\n",
    "}\n",
    "\n",
    "co2.rename(mapping, axis=1, inplace=True)"
   ]
  },
  {
   "cell_type": "code",
   "execution_count": 65,
   "id": "e2a9756a",
   "metadata": {},
   "outputs": [
    {
     "data": {
      "text/plain": [
       "datetime          datetime64[ns, UTC]\n",
       "co2_intensity                 float64\n",
       "co2_production                float64\n",
       "co2_import                    float64\n",
       "nuclear                       float64\n",
       "geothermal                    float64\n",
       "biomass                       float64\n",
       "coal                          float64\n",
       "wind                          float64\n",
       "solar                         float64\n",
       "hydro                         float64\n",
       "gas                           float64\n",
       "oil                           float64\n",
       "unknown                       float64\n",
       "battery                       float64\n",
       "hydro                         float64\n",
       "dtype: object"
      ]
     },
     "execution_count": 65,
     "metadata": {},
     "output_type": "execute_result"
    }
   ],
   "source": [
    "co2.dtypes"
   ]
  },
  {
   "cell_type": "code",
   "execution_count": 66,
   "id": "76f43439",
   "metadata": {},
   "outputs": [
    {
     "data": {
      "text/html": [
       "<div>\n",
       "<style scoped>\n",
       "    .dataframe tbody tr th:only-of-type {\n",
       "        vertical-align: middle;\n",
       "    }\n",
       "\n",
       "    .dataframe tbody tr th {\n",
       "        vertical-align: top;\n",
       "    }\n",
       "\n",
       "    .dataframe thead th {\n",
       "        text-align: right;\n",
       "    }\n",
       "</style>\n",
       "<table border=\"1\" class=\"dataframe\">\n",
       "  <thead>\n",
       "    <tr style=\"text-align: right;\">\n",
       "      <th></th>\n",
       "      <th>datetime</th>\n",
       "      <th>co2_intensity</th>\n",
       "      <th>co2_production</th>\n",
       "      <th>co2_import</th>\n",
       "      <th>nuclear</th>\n",
       "      <th>geothermal</th>\n",
       "      <th>biomass</th>\n",
       "      <th>coal</th>\n",
       "      <th>wind</th>\n",
       "      <th>solar</th>\n",
       "      <th>hydro</th>\n",
       "      <th>gas</th>\n",
       "      <th>oil</th>\n",
       "      <th>unknown</th>\n",
       "      <th>battery</th>\n",
       "      <th>hydro</th>\n",
       "    </tr>\n",
       "  </thead>\n",
       "  <tbody>\n",
       "    <tr>\n",
       "      <th>0</th>\n",
       "      <td>2020-01-01 00:00:00+00:00</td>\n",
       "      <td>115.53</td>\n",
       "      <td>42.25</td>\n",
       "      <td>239.46</td>\n",
       "      <td>3321.21</td>\n",
       "      <td>0.14</td>\n",
       "      <td>235.03</td>\n",
       "      <td>442.94</td>\n",
       "      <td>445.71</td>\n",
       "      <td>0.00</td>\n",
       "      <td>1034.33</td>\n",
       "      <td>293.46</td>\n",
       "      <td>18.54</td>\n",
       "      <td>1038.76</td>\n",
       "      <td>0.0</td>\n",
       "      <td>181.97</td>\n",
       "    </tr>\n",
       "    <tr>\n",
       "      <th>1</th>\n",
       "      <td>2020-01-01 01:00:00+00:00</td>\n",
       "      <td>113.57</td>\n",
       "      <td>46.79</td>\n",
       "      <td>255.94</td>\n",
       "      <td>3224.89</td>\n",
       "      <td>0.14</td>\n",
       "      <td>224.68</td>\n",
       "      <td>432.04</td>\n",
       "      <td>437.79</td>\n",
       "      <td>0.00</td>\n",
       "      <td>1046.74</td>\n",
       "      <td>245.34</td>\n",
       "      <td>17.31</td>\n",
       "      <td>1323.84</td>\n",
       "      <td>0.0</td>\n",
       "      <td>181.31</td>\n",
       "    </tr>\n",
       "    <tr>\n",
       "      <th>2</th>\n",
       "      <td>2020-01-01 02:00:00+00:00</td>\n",
       "      <td>113.70</td>\n",
       "      <td>30.13</td>\n",
       "      <td>235.80</td>\n",
       "      <td>3671.14</td>\n",
       "      <td>3.17</td>\n",
       "      <td>252.13</td>\n",
       "      <td>471.63</td>\n",
       "      <td>472.28</td>\n",
       "      <td>0.01</td>\n",
       "      <td>1107.86</td>\n",
       "      <td>306.60</td>\n",
       "      <td>20.47</td>\n",
       "      <td>586.79</td>\n",
       "      <td>0.0</td>\n",
       "      <td>81.00</td>\n",
       "    </tr>\n",
       "    <tr>\n",
       "      <th>3</th>\n",
       "      <td>2020-01-01 03:00:00+00:00</td>\n",
       "      <td>110.52</td>\n",
       "      <td>48.75</td>\n",
       "      <td>231.63</td>\n",
       "      <td>3638.54</td>\n",
       "      <td>9.61</td>\n",
       "      <td>206.78</td>\n",
       "      <td>376.36</td>\n",
       "      <td>365.74</td>\n",
       "      <td>0.02</td>\n",
       "      <td>1036.09</td>\n",
       "      <td>323.40</td>\n",
       "      <td>17.47</td>\n",
       "      <td>1510.04</td>\n",
       "      <td>0.0</td>\n",
       "      <td>97.00</td>\n",
       "    </tr>\n",
       "    <tr>\n",
       "      <th>4</th>\n",
       "      <td>2020-01-01 04:00:00+00:00</td>\n",
       "      <td>111.10</td>\n",
       "      <td>41.83</td>\n",
       "      <td>240.52</td>\n",
       "      <td>3571.64</td>\n",
       "      <td>5.70</td>\n",
       "      <td>222.40</td>\n",
       "      <td>411.97</td>\n",
       "      <td>397.42</td>\n",
       "      <td>0.02</td>\n",
       "      <td>1041.85</td>\n",
       "      <td>290.49</td>\n",
       "      <td>18.23</td>\n",
       "      <td>1123.35</td>\n",
       "      <td>0.0</td>\n",
       "      <td>97.00</td>\n",
       "    </tr>\n",
       "    <tr>\n",
       "      <th>...</th>\n",
       "      <td>...</td>\n",
       "      <td>...</td>\n",
       "      <td>...</td>\n",
       "      <td>...</td>\n",
       "      <td>...</td>\n",
       "      <td>...</td>\n",
       "      <td>...</td>\n",
       "      <td>...</td>\n",
       "      <td>...</td>\n",
       "      <td>...</td>\n",
       "      <td>...</td>\n",
       "      <td>...</td>\n",
       "      <td>...</td>\n",
       "      <td>...</td>\n",
       "      <td>...</td>\n",
       "      <td>...</td>\n",
       "    </tr>\n",
       "    <tr>\n",
       "      <th>13123</th>\n",
       "      <td>2021-06-30 19:00:00+00:00</td>\n",
       "      <td>74.55</td>\n",
       "      <td>71.97</td>\n",
       "      <td>NaN</td>\n",
       "      <td>918.46</td>\n",
       "      <td>0.00</td>\n",
       "      <td>0.00</td>\n",
       "      <td>0.00</td>\n",
       "      <td>0.00</td>\n",
       "      <td>0.00</td>\n",
       "      <td>1812.00</td>\n",
       "      <td>0.00</td>\n",
       "      <td>0.00</td>\n",
       "      <td>2405.48</td>\n",
       "      <td>0.0</td>\n",
       "      <td>1064.06</td>\n",
       "    </tr>\n",
       "    <tr>\n",
       "      <th>13124</th>\n",
       "      <td>2021-06-30 20:00:00+00:00</td>\n",
       "      <td>78.65</td>\n",
       "      <td>77.04</td>\n",
       "      <td>NaN</td>\n",
       "      <td>943.88</td>\n",
       "      <td>0.00</td>\n",
       "      <td>0.00</td>\n",
       "      <td>0.00</td>\n",
       "      <td>0.00</td>\n",
       "      <td>0.00</td>\n",
       "      <td>1715.01</td>\n",
       "      <td>0.00</td>\n",
       "      <td>0.00</td>\n",
       "      <td>2823.69</td>\n",
       "      <td>0.0</td>\n",
       "      <td>1052.42</td>\n",
       "    </tr>\n",
       "    <tr>\n",
       "      <th>13125</th>\n",
       "      <td>2021-06-30 21:00:00+00:00</td>\n",
       "      <td>103.10</td>\n",
       "      <td>71.17</td>\n",
       "      <td>348.64</td>\n",
       "      <td>1061.13</td>\n",
       "      <td>0.22</td>\n",
       "      <td>52.81</td>\n",
       "      <td>184.39</td>\n",
       "      <td>128.09</td>\n",
       "      <td>0.00</td>\n",
       "      <td>1456.45</td>\n",
       "      <td>83.60</td>\n",
       "      <td>4.48</td>\n",
       "      <td>2066.78</td>\n",
       "      <td>0.0</td>\n",
       "      <td>692.06</td>\n",
       "    </tr>\n",
       "    <tr>\n",
       "      <th>13126</th>\n",
       "      <td>2021-06-30 22:00:00+00:00</td>\n",
       "      <td>120.71</td>\n",
       "      <td>82.12</td>\n",
       "      <td>342.61</td>\n",
       "      <td>1215.24</td>\n",
       "      <td>0.34</td>\n",
       "      <td>76.70</td>\n",
       "      <td>251.02</td>\n",
       "      <td>193.26</td>\n",
       "      <td>0.01</td>\n",
       "      <td>967.38</td>\n",
       "      <td>95.31</td>\n",
       "      <td>6.64</td>\n",
       "      <td>2635.87</td>\n",
       "      <td>0.0</td>\n",
       "      <td>198.25</td>\n",
       "    </tr>\n",
       "    <tr>\n",
       "      <th>13127</th>\n",
       "      <td>2021-06-30 23:00:00+00:00</td>\n",
       "      <td>120.51</td>\n",
       "      <td>83.40</td>\n",
       "      <td>287.08</td>\n",
       "      <td>1267.46</td>\n",
       "      <td>0.36</td>\n",
       "      <td>84.33</td>\n",
       "      <td>257.64</td>\n",
       "      <td>226.13</td>\n",
       "      <td>0.01</td>\n",
       "      <td>900.87</td>\n",
       "      <td>77.95</td>\n",
       "      <td>7.24</td>\n",
       "      <td>2564.85</td>\n",
       "      <td>0.0</td>\n",
       "      <td>117.16</td>\n",
       "    </tr>\n",
       "  </tbody>\n",
       "</table>\n",
       "<p>13128 rows × 16 columns</p>\n",
       "</div>"
      ],
      "text/plain": [
       "                       datetime  co2_intensity  co2_production  co2_import  \\\n",
       "0     2020-01-01 00:00:00+00:00         115.53           42.25      239.46   \n",
       "1     2020-01-01 01:00:00+00:00         113.57           46.79      255.94   \n",
       "2     2020-01-01 02:00:00+00:00         113.70           30.13      235.80   \n",
       "3     2020-01-01 03:00:00+00:00         110.52           48.75      231.63   \n",
       "4     2020-01-01 04:00:00+00:00         111.10           41.83      240.52   \n",
       "...                         ...            ...             ...         ...   \n",
       "13123 2021-06-30 19:00:00+00:00          74.55           71.97         NaN   \n",
       "13124 2021-06-30 20:00:00+00:00          78.65           77.04         NaN   \n",
       "13125 2021-06-30 21:00:00+00:00         103.10           71.17      348.64   \n",
       "13126 2021-06-30 22:00:00+00:00         120.71           82.12      342.61   \n",
       "13127 2021-06-30 23:00:00+00:00         120.51           83.40      287.08   \n",
       "\n",
       "       nuclear  geothermal  biomass    coal    wind  solar    hydro     gas  \\\n",
       "0      3321.21        0.14   235.03  442.94  445.71   0.00  1034.33  293.46   \n",
       "1      3224.89        0.14   224.68  432.04  437.79   0.00  1046.74  245.34   \n",
       "2      3671.14        3.17   252.13  471.63  472.28   0.01  1107.86  306.60   \n",
       "3      3638.54        9.61   206.78  376.36  365.74   0.02  1036.09  323.40   \n",
       "4      3571.64        5.70   222.40  411.97  397.42   0.02  1041.85  290.49   \n",
       "...        ...         ...      ...     ...     ...    ...      ...     ...   \n",
       "13123   918.46        0.00     0.00    0.00    0.00   0.00  1812.00    0.00   \n",
       "13124   943.88        0.00     0.00    0.00    0.00   0.00  1715.01    0.00   \n",
       "13125  1061.13        0.22    52.81  184.39  128.09   0.00  1456.45   83.60   \n",
       "13126  1215.24        0.34    76.70  251.02  193.26   0.01   967.38   95.31   \n",
       "13127  1267.46        0.36    84.33  257.64  226.13   0.01   900.87   77.95   \n",
       "\n",
       "         oil  unknown  battery    hydro  \n",
       "0      18.54  1038.76      0.0   181.97  \n",
       "1      17.31  1323.84      0.0   181.31  \n",
       "2      20.47   586.79      0.0    81.00  \n",
       "3      17.47  1510.04      0.0    97.00  \n",
       "4      18.23  1123.35      0.0    97.00  \n",
       "...      ...      ...      ...      ...  \n",
       "13123   0.00  2405.48      0.0  1064.06  \n",
       "13124   0.00  2823.69      0.0  1052.42  \n",
       "13125   4.48  2066.78      0.0   692.06  \n",
       "13126   6.64  2635.87      0.0   198.25  \n",
       "13127   7.24  2564.85      0.0   117.16  \n",
       "\n",
       "[13128 rows x 16 columns]"
      ]
     },
     "execution_count": 66,
     "metadata": {},
     "output_type": "execute_result"
    }
   ],
   "source": [
    "co2"
   ]
  },
  {
   "cell_type": "code",
   "execution_count": 79,
   "id": "c8e86fa4",
   "metadata": {},
   "outputs": [],
   "source": [
    "epoch = pd.to_datetime(0, utc=True)\n",
    "neutral_epoch = pd.to_datetime(0)\n",
    "\n",
    "def to_unix_timestamp(x):\n",
    "    return (x - epoch).total_seconds()\n",
    "\n",
    "def to_unix_timestamp_neutral(x):\n",
    "    return (x - neutral_epoch).total_seconds()"
   ]
  },
  {
   "cell_type": "code",
   "execution_count": 101,
   "id": "e9a48576",
   "metadata": {},
   "outputs": [],
   "source": [
    "interp_dict = {}\n",
    "\n",
    "for x in range(int(len(co2) / 24)):\n",
    "    if x == 0:\n",
    "        start, end = x * 24, (x + 1) * 24 + 6\n",
    "    elif x == 546:\n",
    "        start, end = x * 24 - 6, (x + 1) * 24\n",
    "    else:\n",
    "        start, end = x * 24 - 6, (x + 1) * 24 + 6\n",
    "    xs = co2['datetime'][start:end].apply(to_unix_timestamp)\n",
    "    ys = co2['co2_intensity'][start:end]\n",
    "    dt = co2['datetime'][x * 24]\n",
    "    interp_dict[(dt.year, dt.month, dt.day)] = interp1d(xs, ys, kind='cubic')"
   ]
  },
  {
   "cell_type": "code",
   "execution_count": 118,
   "id": "48701424",
   "metadata": {},
   "outputs": [],
   "source": [
    "def get_co2_for_datetime(dt):\n",
    "    try:\n",
    "        func = interp_dict[(dt.year, dt.month, dt.day)]\n",
    "        return float(func(to_unix_timestamp_neutral(dt)))\n",
    "    except (KeyError, ValueError):\n",
    "        return 0"
   ]
  },
  {
   "cell_type": "code",
   "execution_count": 119,
   "id": "bbc15716",
   "metadata": {},
   "outputs": [],
   "source": [
    "meter['co2_intensity'] = meter['timestamp'].apply(get_co2_for_datetime)"
   ]
  },
  {
   "cell_type": "code",
   "execution_count": 120,
   "id": "d4792a46",
   "metadata": {},
   "outputs": [],
   "source": [
    "meter['co2_total'] = meter['co2_intensity'] * meter['increment'] / 1000"
   ]
  },
  {
   "cell_type": "markdown",
   "id": "303b5a10",
   "metadata": {},
   "source": [
    "Check to see how many values are missing"
   ]
  },
  {
   "cell_type": "code",
   "execution_count": 122,
   "id": "b1803ed3",
   "metadata": {},
   "outputs": [
    {
     "data": {
      "text/plain": [
       "(209005, 966100)"
      ]
     },
     "execution_count": 122,
     "metadata": {},
     "output_type": "execute_result"
    }
   ],
   "source": [
    "(meter['co2_intensity'] == 0).sum(), (meter['co2_intensity'] != 0).sum()"
   ]
  },
  {
   "cell_type": "markdown",
   "id": "9d8d1bbe",
   "metadata": {},
   "source": [
    "Is this due to dates past our last CO2 data, or some other error?"
   ]
  },
  {
   "cell_type": "code",
   "execution_count": 123,
   "id": "b63d7d51",
   "metadata": {},
   "outputs": [
    {
     "data": {
      "text/plain": [
       "Timestamp('2021-06-30 23:00:00+0000', tz='UTC')"
      ]
     },
     "execution_count": 123,
     "metadata": {},
     "output_type": "execute_result"
    }
   ],
   "source": [
    "co2['datetime'].max()"
   ]
  },
  {
   "cell_type": "code",
   "execution_count": 127,
   "id": "360d9cc2",
   "metadata": {},
   "outputs": [
    {
     "data": {
      "text/plain": [
       "0   2021-01-01 00:15:00\n",
       "0   2020-01-07 00:15:00\n",
       "Name: timestamp, dtype: datetime64[ns]"
      ]
     },
     "execution_count": 127,
     "metadata": {},
     "output_type": "execute_result"
    }
   ],
   "source": [
    "meter['timestamp'][0]"
   ]
  },
  {
   "cell_type": "code",
   "execution_count": 128,
   "id": "44efc51b",
   "metadata": {},
   "outputs": [
    {
     "name": "stderr",
     "output_type": "stream",
     "text": [
      "<ipython-input-128-733fe0b6ca5f>:1: DeprecationWarning: parsing timezone aware datetimes is deprecated; this will raise an error in the future\n",
      "  (meter['timestamp'] > np.datetime64('2021-06-30 23:00:00+0000')).sum()\n"
     ]
    },
    {
     "data": {
      "text/plain": [
       "209005"
      ]
     },
     "execution_count": 128,
     "metadata": {},
     "output_type": "execute_result"
    }
   ],
   "source": [
    "(meter['timestamp'] > np.datetime64('2021-06-30 23:00:00+0000')).sum()"
   ]
  },
  {
   "cell_type": "markdown",
   "id": "ee1c7318",
   "metadata": {},
   "source": [
    "OK, this is reasonable. We just don't have the data for later dates."
   ]
  },
  {
   "cell_type": "code",
   "execution_count": null,
   "id": "073d2838",
   "metadata": {},
   "outputs": [],
   "source": []
  },
  {
   "cell_type": "markdown",
   "id": "351d2dd6",
   "metadata": {},
   "source": [
    "Visualize some patterns:"
   ]
  },
  {
   "cell_type": "code",
   "execution_count": 11,
   "id": "f82554ef",
   "metadata": {},
   "outputs": [],
   "source": [
    "%matplotlib inline"
   ]
  },
  {
   "cell_type": "code",
   "execution_count": 39,
   "id": "a5a35f04",
   "metadata": {},
   "outputs": [],
   "source": [
    "from matplotlib import pyplot as plt"
   ]
  },
  {
   "cell_type": "code",
   "execution_count": 43,
   "id": "c5fea0b4",
   "metadata": {},
   "outputs": [
    {
     "data": {
      "text/plain": [
       "<matplotlib.axes._subplots.AxesSubplot at 0x143da95b0>"
      ]
     },
     "execution_count": 43,
     "metadata": {},
     "output_type": "execute_result"
    },
    {
     "data": {
      "image/png": "[encoded data removed]",
      "text/plain": [
       "<Figure size 432x288 with 1 Axes>"
      ]
     },
     "metadata": {
      "needs_background": "light"
     },
     "output_type": "display_data"
    }
   ],
   "source": [
    "co2.plot(x='datetime', y='co2_intensity')"
   ]
  },
  {
   "cell_type": "code",
   "execution_count": 36,
   "id": "6a38401e",
   "metadata": {},
   "outputs": [],
   "source": [
    "epoch = pd.to_datetime(0, utc=True)"
   ]
  },
  {
   "cell_type": "code",
   "execution_count": 37,
   "id": "ee9f1b16",
   "metadata": {},
   "outputs": [],
   "source": [
    "xs = co2[1000:1050]['datetime'].apply(lambda x: (x - epoch).total_seconds())\n",
    "ys = co2[1000:1050]['co2_intensity']"
   ]
  },
  {
   "cell_type": "code",
   "execution_count": 40,
   "id": "c7663947",
   "metadata": {},
   "outputs": [],
   "source": [
    "interp_func = interp1d(xs, ys, kind='cubic')"
   ]
  },
  {
   "cell_type": "code",
   "execution_count": 41,
   "id": "be3c0a1b",
   "metadata": {},
   "outputs": [],
   "source": [
    "new_xs = np.linspace(xs.min(), xs.max(), 200)"
   ]
  },
  {
   "cell_type": "code",
   "execution_count": 42,
   "id": "d90cdaec",
   "metadata": {},
   "outputs": [
    {
     "data": {
      "text/plain": [
       "[<matplotlib.lines.Line2D at 0x143d7a190>,\n",
       " <matplotlib.lines.Line2D at 0x143d7a1c0>]"
      ]
     },
     "execution_count": 42,
     "metadata": {},
     "output_type": "execute_result"
    },
    {
     "data": {
      "image/png": "[encoded data removed]",
      "text/plain": [
       "<Figure size 432x288 with 1 Axes>"
      ]
     },
     "metadata": {
      "needs_background": "light"
     },
     "output_type": "display_data"
    }
   ],
   "source": [
    "plt.plot(xs, ys, 'o', new_xs, interp_func(new_xs), '-')"
   ]
  }
 ],
 "metadata": {
  "kernelspec": {
   "display_name": "Python 3",
   "language": "python",
   "name": "python3"
  },
  "language_info": {
   "codemirror_mode": {
    "name": "ipython",
    "version": 3
   },
   "file_extension": ".py",
   "mimetype": "text/x-python",
   "name": "python",
   "nbconvert_exporter": "python",
   "pygments_lexer": "ipython3",
   "version": "3.8.10"
  }
 },
 "nbformat": 4,
 "nbformat_minor": 5
}
