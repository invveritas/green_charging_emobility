{
 "cells": [
  {
   "cell_type": "code",
   "execution_count": 38,
   "id": "870573b7",
   "metadata": {},
   "outputs": [],
   "source": [
    "from pathlib import Path\n",
    "import pandas as pd\n",
    "import numpy as np\n",
    "from import_clean_data import load_annotated_meter_data\n",
    "from matplotlib import pyplot as plt"
   ]
  },
  {
   "cell_type": "code",
   "execution_count": 2,
   "id": "8f84c99f",
   "metadata": {},
   "outputs": [],
   "source": [
    "DATA_DIR = (Path.cwd() / \"..\" / \"Data\").resolve()"
   ]
  },
  {
   "cell_type": "code",
   "execution_count": 8,
   "id": "da62f11a",
   "metadata": {},
   "outputs": [
    {
     "name": "stderr",
     "output_type": "stream",
     "text": [
      "/Users/cmutel/miniconda3/envs/bw2dev38/lib/python3.8/site-packages/IPython/core/interactiveshell.py:3441: DtypeWarning: Columns (0,2,3,4,5) have mixed types.Specify dtype option on import or set low_memory=False.\n",
      "  exec(code_obj, self.user_global_ns, self.user_ns)\n",
      "/Users/cmutel/miniconda3/envs/bw2dev38/lib/python3.8/site-packages/IPython/core/interactiveshell.py:3441: DtypeWarning: Columns (2,3) have mixed types.Specify dtype option on import or set low_memory=False.\n",
      "  exec(code_obj, self.user_global_ns, self.user_ns)\n",
      "/Users/cmutel/Code/green_charging_emobility/Notebooks/import_clean_data.py:42: SettingWithCopyWarning: \n",
      "A value is trying to be set on a copy of a slice from a DataFrame\n",
      "\n",
      "See the caveats in the documentation: https://pandas.pydata.org/pandas-docs/stable/user_guide/indexing.html#returning-a-view-versus-a-copy\n",
      "  meter_2[\"Chargepoint\"][mask] = 42\n"
     ]
    }
   ],
   "source": [
    "meter = load_annotated_meter_data(DATA_DIR)"
   ]
  },
  {
   "cell_type": "code",
   "execution_count": 9,
   "id": "ade558f9",
   "metadata": {},
   "outputs": [],
   "source": [
    "meter['co2_total'] = meter['co2_total'] / 4 / 1000"
   ]
  },
  {
   "cell_type": "code",
   "execution_count": 10,
   "id": "a0c149aa",
   "metadata": {},
   "outputs": [
    {
     "data": {
      "text/html": [
       "<div>\n",
       "<style scoped>\n",
       "    .dataframe tbody tr th:only-of-type {\n",
       "        vertical-align: middle;\n",
       "    }\n",
       "\n",
       "    .dataframe tbody tr th {\n",
       "        vertical-align: top;\n",
       "    }\n",
       "\n",
       "    .dataframe thead th {\n",
       "        text-align: right;\n",
       "    }\n",
       "</style>\n",
       "<table border=\"1\" class=\"dataframe\">\n",
       "  <thead>\n",
       "    <tr style=\"text-align: right;\">\n",
       "      <th></th>\n",
       "      <th>id</th>\n",
       "      <th>Chargepoint</th>\n",
       "      <th>connector</th>\n",
       "      <th>charge_log_id</th>\n",
       "      <th>metervalue</th>\n",
       "      <th>increment</th>\n",
       "      <th>timestamp</th>\n",
       "      <th>co2_intensity</th>\n",
       "      <th>co2_total</th>\n",
       "    </tr>\n",
       "  </thead>\n",
       "  <tbody>\n",
       "    <tr>\n",
       "      <th>0</th>\n",
       "      <td>1057264</td>\n",
       "      <td>1</td>\n",
       "      <td>1</td>\n",
       "      <td>2188</td>\n",
       "      <td>155260</td>\n",
       "      <td>920</td>\n",
       "      <td>2021-01-01 00:15:00</td>\n",
       "      <td>163.543346</td>\n",
       "      <td>0.037615</td>\n",
       "    </tr>\n",
       "    <tr>\n",
       "      <th>1</th>\n",
       "      <td>978733</td>\n",
       "      <td>2</td>\n",
       "      <td>1</td>\n",
       "      <td>2190</td>\n",
       "      <td>2213880</td>\n",
       "      <td>0</td>\n",
       "      <td>2021-01-01 00:15:00</td>\n",
       "      <td>163.543346</td>\n",
       "      <td>0.000000</td>\n",
       "    </tr>\n",
       "    <tr>\n",
       "      <th>2</th>\n",
       "      <td>978738</td>\n",
       "      <td>3</td>\n",
       "      <td>1</td>\n",
       "      <td>2195</td>\n",
       "      <td>3081670</td>\n",
       "      <td>0</td>\n",
       "      <td>2021-01-01 00:15:00</td>\n",
       "      <td>163.543346</td>\n",
       "      <td>0.000000</td>\n",
       "    </tr>\n",
       "    <tr>\n",
       "      <th>3</th>\n",
       "      <td>978742</td>\n",
       "      <td>4</td>\n",
       "      <td>1</td>\n",
       "      <td>2194</td>\n",
       "      <td>1463670</td>\n",
       "      <td>0</td>\n",
       "      <td>2021-01-01 00:15:00</td>\n",
       "      <td>163.543346</td>\n",
       "      <td>0.000000</td>\n",
       "    </tr>\n",
       "    <tr>\n",
       "      <th>4</th>\n",
       "      <td>978746</td>\n",
       "      <td>5</td>\n",
       "      <td>1</td>\n",
       "      <td>1923</td>\n",
       "      <td>1836900</td>\n",
       "      <td>0</td>\n",
       "      <td>2021-01-01 00:15:00</td>\n",
       "      <td>163.543346</td>\n",
       "      <td>0.000000</td>\n",
       "    </tr>\n",
       "    <tr>\n",
       "      <th>...</th>\n",
       "      <td>...</td>\n",
       "      <td>...</td>\n",
       "      <td>...</td>\n",
       "      <td>...</td>\n",
       "      <td>...</td>\n",
       "      <td>...</td>\n",
       "      <td>...</td>\n",
       "      <td>...</td>\n",
       "      <td>...</td>\n",
       "    </tr>\n",
       "    <tr>\n",
       "      <th>315492</th>\n",
       "      <td>978722</td>\n",
       "      <td>25</td>\n",
       "      <td>1</td>\n",
       "      <td>2201</td>\n",
       "      <td>478370</td>\n",
       "      <td>0</td>\n",
       "      <td>2021-01-01 00:00:00</td>\n",
       "      <td>161.490000</td>\n",
       "      <td>0.000000</td>\n",
       "    </tr>\n",
       "    <tr>\n",
       "      <th>315493</th>\n",
       "      <td>978724</td>\n",
       "      <td>26</td>\n",
       "      <td>1</td>\n",
       "      <td>1965</td>\n",
       "      <td>252472</td>\n",
       "      <td>0</td>\n",
       "      <td>2021-01-01 00:00:00</td>\n",
       "      <td>161.490000</td>\n",
       "      <td>0.000000</td>\n",
       "    </tr>\n",
       "    <tr>\n",
       "      <th>315494</th>\n",
       "      <td>978728</td>\n",
       "      <td>28</td>\n",
       "      <td>1</td>\n",
       "      <td>2199</td>\n",
       "      <td>332544</td>\n",
       "      <td>1173</td>\n",
       "      <td>2021-01-01 00:00:00</td>\n",
       "      <td>161.490000</td>\n",
       "      <td>0.047357</td>\n",
       "    </tr>\n",
       "    <tr>\n",
       "      <th>315495</th>\n",
       "      <td>982914</td>\n",
       "      <td>29</td>\n",
       "      <td>1</td>\n",
       "      <td>2197</td>\n",
       "      <td>805520</td>\n",
       "      <td>0</td>\n",
       "      <td>2021-01-01 00:00:00</td>\n",
       "      <td>161.490000</td>\n",
       "      <td>0.000000</td>\n",
       "    </tr>\n",
       "    <tr>\n",
       "      <th>315496</th>\n",
       "      <td>1057266</td>\n",
       "      <td>1</td>\n",
       "      <td>1</td>\n",
       "      <td>2188</td>\n",
       "      <td>154340</td>\n",
       "      <td>920</td>\n",
       "      <td>2021-01-01 00:00:00</td>\n",
       "      <td>161.490000</td>\n",
       "      <td>0.037143</td>\n",
       "    </tr>\n",
       "  </tbody>\n",
       "</table>\n",
       "<p>1175105 rows × 9 columns</p>\n",
       "</div>"
      ],
      "text/plain": [
       "             id  Chargepoint connector charge_log_id  metervalue  increment  \\\n",
       "0       1057264            1         1          2188      155260        920   \n",
       "1        978733            2         1          2190     2213880          0   \n",
       "2        978738            3         1          2195     3081670          0   \n",
       "3        978742            4         1          2194     1463670          0   \n",
       "4        978746            5         1          1923     1836900          0   \n",
       "...         ...          ...       ...           ...         ...        ...   \n",
       "315492   978722           25         1          2201      478370          0   \n",
       "315493   978724           26         1          1965      252472          0   \n",
       "315494   978728           28         1          2199      332544       1173   \n",
       "315495   982914           29         1          2197      805520          0   \n",
       "315496  1057266            1         1          2188      154340        920   \n",
       "\n",
       "                 timestamp  co2_intensity  co2_total  \n",
       "0      2021-01-01 00:15:00     163.543346   0.037615  \n",
       "1      2021-01-01 00:15:00     163.543346   0.000000  \n",
       "2      2021-01-01 00:15:00     163.543346   0.000000  \n",
       "3      2021-01-01 00:15:00     163.543346   0.000000  \n",
       "4      2021-01-01 00:15:00     163.543346   0.000000  \n",
       "...                    ...            ...        ...  \n",
       "315492 2021-01-01 00:00:00     161.490000   0.000000  \n",
       "315493 2021-01-01 00:00:00     161.490000   0.000000  \n",
       "315494 2021-01-01 00:00:00     161.490000   0.047357  \n",
       "315495 2021-01-01 00:00:00     161.490000   0.000000  \n",
       "315496 2021-01-01 00:00:00     161.490000   0.037143  \n",
       "\n",
       "[1175105 rows x 9 columns]"
      ]
     },
     "execution_count": 10,
     "metadata": {},
     "output_type": "execute_result"
    }
   ],
   "source": [
    "meter"
   ]
  },
  {
   "cell_type": "code",
   "execution_count": 11,
   "id": "36496b47",
   "metadata": {},
   "outputs": [],
   "source": [
    "%matplotlib inline"
   ]
  },
  {
   "cell_type": "code",
   "execution_count": 13,
   "id": "1b3e9a12",
   "metadata": {},
   "outputs": [],
   "source": [
    "meter = meter.astype({\"Chargepoint\": str, \"connector\": str})\n",
    "meter['unique_charge_point'] = meter['Chargepoint'] + \"|\" + meter['connector']"
   ]
  },
  {
   "cell_type": "code",
   "execution_count": null,
   "id": "12c88eaf",
   "metadata": {},
   "outputs": [],
   "source": [
    "sum (co2_in * incre) / sum(incre)"
   ]
  },
  {
   "cell_type": "code",
   "execution_count": 30,
   "id": "17028e1a",
   "metadata": {},
   "outputs": [],
   "source": [
    "meter['inc_times_intensity_raw'] = meter['increment'] * meter['co2_intensity']"
   ]
  },
  {
   "cell_type": "code",
   "execution_count": 31,
   "id": "ea7d2a6d",
   "metadata": {},
   "outputs": [],
   "source": [
    "aggregated = meter.groupby(by=['unique_charge_point']).sum(['inc_times_intensity_raw', 'increment'])"
   ]
  },
  {
   "cell_type": "code",
   "execution_count": 32,
   "id": "72939eb2",
   "metadata": {},
   "outputs": [],
   "source": [
    "aggregated[\"weighted-avg\"] = aggregated['inc_times_intensity_raw'] / aggregated['increment']"
   ]
  },
  {
   "cell_type": "code",
   "execution_count": 39,
   "id": "65427948",
   "metadata": {},
   "outputs": [
    {
     "data": {
      "text/plain": [
       "Text(0.5, 0, 'Average CO2 intensity (g CO2/kWh) per chargepoint')"
      ]
     },
     "execution_count": 39,
     "metadata": {},
     "output_type": "execute_result"
    },
    {
     "data": {
      "image/png": "[encoded data removed]",
      "text/plain": [
       "<Figure size 864x576 with 1 Axes>"
      ]
     },
     "metadata": {
      "needs_background": "light"
     },
     "output_type": "display_data"
    }
   ],
   "source": [
    "aggregated[\"weighted-avg\"].plot.hist(bins=20, figsize=(12, 8))\n",
    "plt.xlabel(\"Average CO2 intensity (g CO2/kWh) per chargepoint\")"
   ]
  },
  {
   "cell_type": "code",
   "execution_count": 42,
   "id": "5ef92d34",
   "metadata": {},
   "outputs": [
    {
     "data": {
      "text/plain": [
       "Text(0, 0.5, 'Total energy (Wh)')"
      ]
     },
     "execution_count": 42,
     "metadata": {},
     "output_type": "execute_result"
    },
    {
     "data": {
      "image/png": "[encoded data removed]",
      "text/plain": [
       "<Figure size 720x432 with 1 Axes>"
      ]
     },
     "metadata": {
      "needs_background": "light"
     },
     "output_type": "display_data"
    }
   ],
   "source": [
    "aggregated.plot.scatter(x='weighted-avg', y='increment', figsize=(10, 6))\n",
    "plt.xlabel(\"Average CO2 intensity (g CO2/kWh) per chargepoint\")\n",
    "plt.ylabel(\"Total energy (Wh)\")"
   ]
  },
  {
   "cell_type": "code",
   "execution_count": null,
   "id": "26095b4c",
   "metadata": {},
   "outputs": [],
   "source": []
  }
 ],
 "metadata": {
  "kernelspec": {
   "display_name": "Python 3",
   "language": "python",
   "name": "python3"
  },
  "language_info": {
   "codemirror_mode": {
    "name": "ipython",
    "version": 3
   },
   "file_extension": ".py",
   "mimetype": "text/x-python",
   "name": "python",
   "nbconvert_exporter": "python",
   "pygments_lexer": "ipython3",
   "version": "3.8.10"
  }
 },
 "nbformat": 4,
 "nbformat_minor": 5
}
