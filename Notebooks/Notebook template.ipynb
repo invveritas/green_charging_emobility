{
 "cells": [
  {
   "cell_type": "code",
   "execution_count": 1,
   "id": "8deeb3bb",
   "metadata": {},
   "outputs": [],
   "source": [
    "from pathlib import Path\n",
    "import pandas as pd\n",
    "import numpy as np"
   ]
  },
  {
   "cell_type": "code",
   "execution_count": 2,
   "id": "23272e85",
   "metadata": {},
   "outputs": [],
   "source": [
    "DATA_DIR = (Path.cwd() / \"..\" / \"Data\").resolve()"
   ]
  },
  {
   "cell_type": "code",
   "execution_count": 3,
   "id": "3f27167a",
   "metadata": {},
   "outputs": [],
   "source": [
    "assert (DATA_DIR / \"CH 2020-2021.csv\").exists()\n",
    "assert (DATA_DIR / \"metervalues_pseudonymized_1_neu.csv\").exists()\n",
    "assert (DATA_DIR / \"metervalues_pseudonymized_2_neu.csv\").exists()"
   ]
  },
  {
   "cell_type": "code",
   "execution_count": null,
   "id": "a032903c",
   "metadata": {},
   "outputs": [],
   "source": [
    "carbon = pd.read_csv(DATA_DIR / \"CH 2020-2021.csv\")\n",
    "mvs_1 = pd.read_csv(DATA_DIR / \"metervalues_pseudonymized_1_neu.csv\", delimiter=';', low_memory=False)\n",
    "mvs_2 = pd.read_csv(DATA_DIR / \"metervalues_pseudonymized_2_neu.csv\", delimiter=';', low_memory=False, skiprows=1)"
   ]
  },
  {
   "cell_type": "code",
   "execution_count": 4,
   "id": "57962ef2",
   "metadata": {},
   "outputs": [
    {
     "ename": "NameError",
     "evalue": "name 'mvs_1' is not defined",
     "output_type": "error",
     "traceback": [
      "\u001b[1;31m---------------------------------------------------------------------------\u001b[0m",
      "\u001b[1;31mNameError\u001b[0m                                 Traceback (most recent call last)",
      "\u001b[1;32m~\\AppData\\Local\\Temp/ipykernel_20172/1659756739.py\u001b[0m in \u001b[0;36m<module>\u001b[1;34m\u001b[0m\n\u001b[0;32m      1\u001b[0m \u001b[1;31m# load metervalues and concat to one dataframe\u001b[0m\u001b[1;33m\u001b[0m\u001b[1;33m\u001b[0m\u001b[1;33m\u001b[0m\u001b[0m\n\u001b[1;32m----> 2\u001b[1;33m \u001b[0mmvs_2\u001b[0m\u001b[1;33m.\u001b[0m\u001b[0mcolumns\u001b[0m \u001b[1;33m=\u001b[0m \u001b[0mmvs_1\u001b[0m\u001b[1;33m.\u001b[0m\u001b[0mcolumns\u001b[0m\u001b[1;33m\u001b[0m\u001b[1;33m\u001b[0m\u001b[0m\n\u001b[0m\u001b[0;32m      3\u001b[0m \u001b[0mmvs\u001b[0m \u001b[1;33m=\u001b[0m \u001b[0mpd\u001b[0m\u001b[1;33m.\u001b[0m\u001b[0mconcat\u001b[0m\u001b[1;33m(\u001b[0m\u001b[1;33m[\u001b[0m\u001b[0mmvs_1\u001b[0m\u001b[1;33m,\u001b[0m \u001b[0mmvs_2\u001b[0m\u001b[1;33m]\u001b[0m\u001b[1;33m,\u001b[0m \u001b[0mignore_index\u001b[0m\u001b[1;33m=\u001b[0m\u001b[1;32mTrue\u001b[0m\u001b[1;33m)\u001b[0m\u001b[1;33m\u001b[0m\u001b[1;33m\u001b[0m\u001b[0m\n",
      "\u001b[1;31mNameError\u001b[0m: name 'mvs_1' is not defined"
     ]
    }
   ],
   "source": [
    "# load metervalues and concat to one dataframe\n",
    "mvs_2.columns = mvs_1.columns\n",
    "mvs = pd.concat([mvs_1, mvs_2], ignore_index=True)"
   ]
  },
  {
   "cell_type": "code",
   "execution_count": null,
   "id": "a26e5789",
   "metadata": {},
   "outputs": [],
   "source": [
    "# replace NaN Chargpoints with unique number based on UUID of the connector\n",
    "nans = mvs[mvs['Chargepoint'].isna()]\n",
    "nan_cp_connectors = nans['connector'].unique()[1:]\n",
    "newid = 10000\n",
    "for connector in nan_cp_connectors:\n",
    "    mvs.loc[mvs[\"connector\"] == connector, [\"Chargepoint\"]] = newid\n",
    "    newid += 1"
   ]
  }
 ],
 "metadata": {
  "kernelspec": {
   "display_name": "Python 3 (ipykernel)",
   "language": "python",
   "name": "python3"
  },
  "language_info": {
   "codemirror_mode": {
    "name": "ipython",
    "version": 3
   },
   "file_extension": ".py",
   "mimetype": "text/x-python",
   "name": "python",
   "nbconvert_exporter": "python",
   "pygments_lexer": "ipython3",
   "version": "3.8.2"
  }
 },
 "nbformat": 4,
 "nbformat_minor": 5
}
