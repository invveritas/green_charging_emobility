{
 "cells": [
  {
   "cell_type": "markdown",
   "id": "be7b7ee8",
   "metadata": {},
   "source": [
    "# Basic imports and project setup"
   ]
  },
  {
   "cell_type": "code",
   "execution_count": 1,
   "id": "cebea96d",
   "metadata": {},
   "outputs": [],
   "source": [
    "from pathlib import Path\n",
    "import pandas as pd\n",
    "import numpy as np\n",
    "from import_clean_data import load_annotated_meter_data, load_co2_data, load_filtered_meter_data\n",
    "import warnings"
   ]
  },
  {
   "cell_type": "code",
   "execution_count": 2,
   "id": "84e03847",
   "metadata": {},
   "outputs": [],
   "source": [
    "DATA_DIR = (Path.cwd() / \"..\" / \"Data\").resolve()"
   ]
  },
  {
   "cell_type": "markdown",
   "id": "7f8c5fe0",
   "metadata": {},
   "source": [
    "# The complete meter dataset (including multi-charge sessions"
   ]
  },
  {
   "cell_type": "code",
   "execution_count": 3,
   "id": "2942e8bc",
   "metadata": {},
   "outputs": [],
   "source": [
    "with warnings.catch_warnings():\n",
    "    warnings.simplefilter(\"ignore\")\n",
    "    meter = load_annotated_meter_data(DATA_DIR)"
   ]
  },
  {
   "cell_type": "markdown",
   "id": "278f1009",
   "metadata": {},
   "source": [
    "# The CO2 data from electricity map"
   ]
  },
  {
   "cell_type": "code",
   "execution_count": 5,
   "id": "7f99942b",
   "metadata": {},
   "outputs": [],
   "source": [
    "with warnings.catch_warnings():\n",
    "    warnings.simplefilter(\"ignore\")\n",
    "    co2 = load_co2_data(DATA_DIR)"
   ]
  },
  {
   "cell_type": "markdown",
   "id": "c31f8317",
   "metadata": {},
   "source": [
    "# The filtered, annotated meter data used in most analysis"
   ]
  },
  {
   "cell_type": "code",
   "execution_count": 3,
   "id": "1726cc4f",
   "metadata": {},
   "outputs": [],
   "source": [
    "with warnings.catch_warnings():\n",
    "    warnings.simplefilter(\"ignore\")\n",
    "    df = load_filtered_meter_data(DATA_DIR)"
   ]
  }
 ],
 "metadata": {
  "kernelspec": {
   "display_name": "Python 3",
   "language": "python",
   "name": "python3"
  },
  "language_info": {
   "codemirror_mode": {
    "name": "ipython",
    "version": 3
   },
   "file_extension": ".py",
   "mimetype": "text/x-python",
   "name": "python",
   "nbconvert_exporter": "python",
   "pygments_lexer": "ipython3",
   "version": "3.8.10"
  }
 },
 "nbformat": 4,
 "nbformat_minor": 5
}
