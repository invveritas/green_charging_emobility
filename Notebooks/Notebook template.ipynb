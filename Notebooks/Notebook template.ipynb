{
 "cells": [
  {
   "cell_type": "code",
   "execution_count": 1,
   "id": "8deeb3bb",
   "metadata": {},
   "outputs": [],
   "source": [
    "from pathlib import Path\n",
    "import pandas as pd\n",
    "import numpy as np"
   ]
  },
  {
   "cell_type": "code",
   "execution_count": 4,
   "id": "23272e85",
   "metadata": {},
   "outputs": [],
   "source": [
    "DATA_DIR = (Path.cwd() / \"..\" / \"Data\").resolve()"
   ]
  },
  {
   "cell_type": "code",
   "execution_count": 6,
   "id": "3f27167a",
   "metadata": {},
   "outputs": [],
   "source": [
    "assert (DATA_DIR / \"CH 2020-2021.csv\").exists()\n",
    "assert (DATA_DIR / \"metervalues_pseudonymized_1_neu.csv\").exists()\n",
    "assert (DATA_DIR / \"metervalues_pseudonymized_2_neu.csv\").exists()"
   ]
  },
  {
   "cell_type": "code",
   "execution_count": null,
   "id": "a26e5789",
   "metadata": {},
   "outputs": [],
   "source": []
  }
 ],
 "metadata": {
  "kernelspec": {
   "display_name": "Python 3",
   "language": "python",
   "name": "python3"
  },
  "language_info": {
   "codemirror_mode": {
    "name": "ipython",
    "version": 3
   },
   "file_extension": ".py",
   "mimetype": "text/x-python",
   "name": "python",
   "nbconvert_exporter": "python",
   "pygments_lexer": "ipython3",
   "version": "3.8.10"
  }
 },
 "nbformat": 4,
 "nbformat_minor": 5
}
